{
 "cells": [
  {
   "cell_type": "markdown",
   "id": "15d647c3-1233-48e3-bc34-737963b1f7c5",
   "metadata": {},
   "source": [
    "# Baseline Model using Surprise"
   ]
  },
  {
   "cell_type": "code",
   "execution_count": 2,
   "id": "898fea9e-9e0a-4748-bef6-0d43863b4dae",
   "metadata": {},
   "outputs": [],
   "source": [
    "# imports\n",
    "import pandas as pd\n",
    "import numpy as np\n",
    "from sklearn.preprocessing import StandardScaler, MinMaxScaler, LabelEncoder, OneHotEncoder, StandardScaler\n",
    "from sklearn.neighbors import KNeighborsClassifier, NearestNeighbors\n",
    "from sklearn.model_selection import train_test_split, KFold\n",
    "from sklearn.pipeline import Pipeline\n",
    "from scipy.sparse import csr_matrix\n",
    "\n",
    "import surprise\n",
    "from surprise.model_selection import train_test_split\n",
    "from surprise.prediction_algorithms import *"
   ]
  },
  {
   "cell_type": "code",
   "execution_count": 4,
   "id": "7d1b1ebd-d227-4fb0-9057-8f62d60dbd07",
   "metadata": {},
   "outputs": [
    {
     "data": {
      "text/html": [
       "<div>\n",
       "<style scoped>\n",
       "    .dataframe tbody tr th:only-of-type {\n",
       "        vertical-align: middle;\n",
       "    }\n",
       "\n",
       "    .dataframe tbody tr th {\n",
       "        vertical-align: top;\n",
       "    }\n",
       "\n",
       "    .dataframe thead th {\n",
       "        text-align: right;\n",
       "    }\n",
       "</style>\n",
       "<table border=\"1\" class=\"dataframe\">\n",
       "  <thead>\n",
       "    <tr style=\"text-align: right;\">\n",
       "      <th></th>\n",
       "      <th>Unnamed: 0</th>\n",
       "      <th>playlist_name</th>\n",
       "      <th>collaborative</th>\n",
       "      <th>pid</th>\n",
       "      <th>num_tracks</th>\n",
       "      <th>num_albums</th>\n",
       "      <th>num_followers</th>\n",
       "      <th>num_artists</th>\n",
       "      <th>playlist_duration_minutes</th>\n",
       "      <th>pos</th>\n",
       "      <th>artist_name</th>\n",
       "      <th>track_uri</th>\n",
       "      <th>artist_uri</th>\n",
       "      <th>track_name</th>\n",
       "      <th>album_uri</th>\n",
       "      <th>album_name</th>\n",
       "      <th>modified_date</th>\n",
       "      <th>playlist_length</th>\n",
       "      <th>track_and_artist</th>\n",
       "      <th>song_length</th>\n",
       "    </tr>\n",
       "  </thead>\n",
       "  <tbody>\n",
       "    <tr>\n",
       "      <th>0</th>\n",
       "      <td>0</td>\n",
       "      <td>party party</td>\n",
       "      <td>False</td>\n",
       "      <td>2000</td>\n",
       "      <td>152</td>\n",
       "      <td>142</td>\n",
       "      <td>1</td>\n",
       "      <td>116</td>\n",
       "      <td>656.892967</td>\n",
       "      <td>0</td>\n",
       "      <td>The Jackson 5</td>\n",
       "      <td>spotify:track:6cb0HzFQPN4BGADOmSzPCw</td>\n",
       "      <td>spotify:artist:2iE18Oxc8YSumAU232n4rW</td>\n",
       "      <td>ABC</td>\n",
       "      <td>spotify:album:4GuzZh2dtsOjG3sMkx52eR</td>\n",
       "      <td>ABC</td>\n",
       "      <td>2015-11-07</td>\n",
       "      <td>10:56:53.578000</td>\n",
       "      <td>'ABC' by The Jackson 5</td>\n",
       "      <td>00:02:54.866000</td>\n",
       "    </tr>\n",
       "    <tr>\n",
       "      <th>1</th>\n",
       "      <td>0</td>\n",
       "      <td>party party</td>\n",
       "      <td>False</td>\n",
       "      <td>2000</td>\n",
       "      <td>152</td>\n",
       "      <td>142</td>\n",
       "      <td>1</td>\n",
       "      <td>116</td>\n",
       "      <td>656.892967</td>\n",
       "      <td>1</td>\n",
       "      <td>Streetlight Manifesto</td>\n",
       "      <td>spotify:track:0HBvwy7XVhrkQljkCONgsq</td>\n",
       "      <td>spotify:artist:1OKOTYGoCE2buxTYMegJp7</td>\n",
       "      <td>Point/Counterpoint</td>\n",
       "      <td>spotify:album:3phH2ZoACvpLVcPtyIk8jp</td>\n",
       "      <td>Everything Goes Numb</td>\n",
       "      <td>2015-11-07</td>\n",
       "      <td>10:56:53.578000</td>\n",
       "      <td>'Point/Counterpoint' by Streetlight Manifesto</td>\n",
       "      <td>00:05:27.920000</td>\n",
       "    </tr>\n",
       "    <tr>\n",
       "      <th>2</th>\n",
       "      <td>0</td>\n",
       "      <td>party party</td>\n",
       "      <td>False</td>\n",
       "      <td>2000</td>\n",
       "      <td>152</td>\n",
       "      <td>142</td>\n",
       "      <td>1</td>\n",
       "      <td>116</td>\n",
       "      <td>656.892967</td>\n",
       "      <td>2</td>\n",
       "      <td>Michael Jackson</td>\n",
       "      <td>spotify:track:5ChkMS8OtdzJeqyybCc9R5</td>\n",
       "      <td>spotify:artist:3fMbdgg4jU18AjLCKBhRSm</td>\n",
       "      <td>Billie Jean</td>\n",
       "      <td>spotify:album:1C2h7mLntPSeVYciMRTF4a</td>\n",
       "      <td>Thriller 25 Super Deluxe Edition</td>\n",
       "      <td>2015-11-07</td>\n",
       "      <td>10:56:53.578000</td>\n",
       "      <td>'Billie Jean' by Michael Jackson</td>\n",
       "      <td>00:04:53.826000</td>\n",
       "    </tr>\n",
       "    <tr>\n",
       "      <th>3</th>\n",
       "      <td>0</td>\n",
       "      <td>party party</td>\n",
       "      <td>False</td>\n",
       "      <td>2000</td>\n",
       "      <td>152</td>\n",
       "      <td>142</td>\n",
       "      <td>1</td>\n",
       "      <td>116</td>\n",
       "      <td>656.892967</td>\n",
       "      <td>3</td>\n",
       "      <td>Green Day</td>\n",
       "      <td>spotify:track:6L89mwZXSOwYl76YXfX13s</td>\n",
       "      <td>spotify:artist:7oPftvlwr6VrsViSDV7fJY</td>\n",
       "      <td>Basket Case</td>\n",
       "      <td>spotify:album:4uG8q3GPuWHQlRbswMIRS6</td>\n",
       "      <td>Dookie</td>\n",
       "      <td>2015-11-07</td>\n",
       "      <td>10:56:53.578000</td>\n",
       "      <td>'Basket Case' by Green Day</td>\n",
       "      <td>00:03:01.533000</td>\n",
       "    </tr>\n",
       "    <tr>\n",
       "      <th>4</th>\n",
       "      <td>0</td>\n",
       "      <td>party party</td>\n",
       "      <td>False</td>\n",
       "      <td>2000</td>\n",
       "      <td>152</td>\n",
       "      <td>142</td>\n",
       "      <td>1</td>\n",
       "      <td>116</td>\n",
       "      <td>656.892967</td>\n",
       "      <td>4</td>\n",
       "      <td>The White Stripes</td>\n",
       "      <td>spotify:track:1jNOi6m3Hn8nLEeHCp5Msr</td>\n",
       "      <td>spotify:artist:4F84IBURUo98rz4r61KF70</td>\n",
       "      <td>Seven Nation Army</td>\n",
       "      <td>spotify:album:4teFaDSeFHYXZjZJaZGrAO</td>\n",
       "      <td>Elephant</td>\n",
       "      <td>2015-11-07</td>\n",
       "      <td>10:56:53.578000</td>\n",
       "      <td>'Seven Nation Army' by The White Stripes</td>\n",
       "      <td>00:03:51.800000</td>\n",
       "    </tr>\n",
       "  </tbody>\n",
       "</table>\n",
       "</div>"
      ],
      "text/plain": [
       "   Unnamed: 0 playlist_name  collaborative   pid  num_tracks  num_albums  \\\n",
       "0           0   party party          False  2000         152         142   \n",
       "1           0   party party          False  2000         152         142   \n",
       "2           0   party party          False  2000         152         142   \n",
       "3           0   party party          False  2000         152         142   \n",
       "4           0   party party          False  2000         152         142   \n",
       "\n",
       "   num_followers  num_artists  playlist_duration_minutes  pos  \\\n",
       "0              1          116                 656.892967    0   \n",
       "1              1          116                 656.892967    1   \n",
       "2              1          116                 656.892967    2   \n",
       "3              1          116                 656.892967    3   \n",
       "4              1          116                 656.892967    4   \n",
       "\n",
       "             artist_name                             track_uri  \\\n",
       "0          The Jackson 5  spotify:track:6cb0HzFQPN4BGADOmSzPCw   \n",
       "1  Streetlight Manifesto  spotify:track:0HBvwy7XVhrkQljkCONgsq   \n",
       "2        Michael Jackson  spotify:track:5ChkMS8OtdzJeqyybCc9R5   \n",
       "3              Green Day  spotify:track:6L89mwZXSOwYl76YXfX13s   \n",
       "4      The White Stripes  spotify:track:1jNOi6m3Hn8nLEeHCp5Msr   \n",
       "\n",
       "                              artist_uri          track_name  \\\n",
       "0  spotify:artist:2iE18Oxc8YSumAU232n4rW                 ABC   \n",
       "1  spotify:artist:1OKOTYGoCE2buxTYMegJp7  Point/Counterpoint   \n",
       "2  spotify:artist:3fMbdgg4jU18AjLCKBhRSm         Billie Jean   \n",
       "3  spotify:artist:7oPftvlwr6VrsViSDV7fJY         Basket Case   \n",
       "4  spotify:artist:4F84IBURUo98rz4r61KF70   Seven Nation Army   \n",
       "\n",
       "                              album_uri                        album_name  \\\n",
       "0  spotify:album:4GuzZh2dtsOjG3sMkx52eR                               ABC   \n",
       "1  spotify:album:3phH2ZoACvpLVcPtyIk8jp              Everything Goes Numb   \n",
       "2  spotify:album:1C2h7mLntPSeVYciMRTF4a  Thriller 25 Super Deluxe Edition   \n",
       "3  spotify:album:4uG8q3GPuWHQlRbswMIRS6                            Dookie   \n",
       "4  spotify:album:4teFaDSeFHYXZjZJaZGrAO                          Elephant   \n",
       "\n",
       "  modified_date  playlist_length  \\\n",
       "0    2015-11-07  10:56:53.578000   \n",
       "1    2015-11-07  10:56:53.578000   \n",
       "2    2015-11-07  10:56:53.578000   \n",
       "3    2015-11-07  10:56:53.578000   \n",
       "4    2015-11-07  10:56:53.578000   \n",
       "\n",
       "                                track_and_artist      song_length  \n",
       "0                         'ABC' by The Jackson 5  00:02:54.866000  \n",
       "1  'Point/Counterpoint' by Streetlight Manifesto  00:05:27.920000  \n",
       "2               'Billie Jean' by Michael Jackson  00:04:53.826000  \n",
       "3                     'Basket Case' by Green Day  00:03:01.533000  \n",
       "4       'Seven Nation Army' by The White Stripes  00:03:51.800000  "
      ]
     },
     "execution_count": 4,
     "metadata": {},
     "output_type": "execute_result"
    }
   ],
   "source": [
    "expanded_df = pd.read_csv('expanded_df.csv')\n",
    "expanded_df.head()"
   ]
  },
  {
   "cell_type": "code",
   "execution_count": 5,
   "id": "9e30ce55-ad84-4949-8b33-871d205ecdae",
   "metadata": {},
   "outputs": [
    {
     "data": {
      "text/html": [
       "<div>\n",
       "<style scoped>\n",
       "    .dataframe tbody tr th:only-of-type {\n",
       "        vertical-align: middle;\n",
       "    }\n",
       "\n",
       "    .dataframe tbody tr th {\n",
       "        vertical-align: top;\n",
       "    }\n",
       "\n",
       "    .dataframe thead th {\n",
       "        text-align: right;\n",
       "    }\n",
       "</style>\n",
       "<table border=\"1\" class=\"dataframe\">\n",
       "  <thead>\n",
       "    <tr style=\"text-align: right;\">\n",
       "      <th></th>\n",
       "      <th>playlist_name</th>\n",
       "      <th>track_and_artist</th>\n",
       "      <th>pos</th>\n",
       "    </tr>\n",
       "  </thead>\n",
       "  <tbody>\n",
       "    <tr>\n",
       "      <th>0</th>\n",
       "      <td>party party</td>\n",
       "      <td>'ABC' by The Jackson 5</td>\n",
       "      <td>0</td>\n",
       "    </tr>\n",
       "    <tr>\n",
       "      <th>1</th>\n",
       "      <td>party party</td>\n",
       "      <td>'Point/Counterpoint' by Streetlight Manifesto</td>\n",
       "      <td>1</td>\n",
       "    </tr>\n",
       "    <tr>\n",
       "      <th>2</th>\n",
       "      <td>party party</td>\n",
       "      <td>'Billie Jean' by Michael Jackson</td>\n",
       "      <td>2</td>\n",
       "    </tr>\n",
       "    <tr>\n",
       "      <th>3</th>\n",
       "      <td>party party</td>\n",
       "      <td>'Basket Case' by Green Day</td>\n",
       "      <td>3</td>\n",
       "    </tr>\n",
       "    <tr>\n",
       "      <th>4</th>\n",
       "      <td>party party</td>\n",
       "      <td>'Seven Nation Army' by The White Stripes</td>\n",
       "      <td>4</td>\n",
       "    </tr>\n",
       "  </tbody>\n",
       "</table>\n",
       "</div>"
      ],
      "text/plain": [
       "  playlist_name                               track_and_artist  pos\n",
       "0   party party                         'ABC' by The Jackson 5    0\n",
       "1   party party  'Point/Counterpoint' by Streetlight Manifesto    1\n",
       "2   party party               'Billie Jean' by Michael Jackson    2\n",
       "3   party party                     'Basket Case' by Green Day    3\n",
       "4   party party       'Seven Nation Army' by The White Stripes    4"
      ]
     },
     "execution_count": 5,
     "metadata": {},
     "output_type": "execute_result"
    }
   ],
   "source": [
    "modeling_expanded_df = expanded_df[['playlist_name', 'track_and_artist', 'pos']]\n",
    "modeling_expanded_df.head()"
   ]
  },
  {
   "cell_type": "code",
   "execution_count": 7,
   "id": "d56e7f68-de15-4102-ad53-92a77a0dae76",
   "metadata": {},
   "outputs": [],
   "source": [
    "# converting this df into a surprise dataset\n",
    "reader = surprise.Reader() \n",
    "data = surprise.Dataset.load_from_df(modeling_expanded_df[['playlist_name', 'track_and_artist', 'pos']], reader)"
   ]
  },
  {
   "cell_type": "code",
   "execution_count": 8,
   "id": "dfe82e4c-6754-40a2-8989-bc318d813615",
   "metadata": {},
   "outputs": [
    {
     "data": {
      "text/plain": [
       "<surprise.trainset.Trainset at 0x104609c40>"
      ]
     },
     "execution_count": 8,
     "metadata": {},
     "output_type": "execute_result"
    }
   ],
   "source": [
    "# train-tst split using surprise\n",
    "train, test = surprise.model_selection.train_test_split(data, random_state=27)\n",
    "train"
   ]
  },
  {
   "cell_type": "markdown",
   "id": "353f480b-77aa-4bb3-a172-488768abbbfa",
   "metadata": {},
   "source": [
    "## KNN using surprise"
   ]
  },
  {
   "cell_type": "code",
   "execution_count": 9,
   "id": "5b1bc156-7a55-4520-9092-fe2dd4ab3f38",
   "metadata": {},
   "outputs": [
    {
     "name": "stdout",
     "output_type": "stream",
     "text": [
      "Computing the msd similarity matrix...\n",
      "Done computing similarity matrix.\n"
     ]
    }
   ],
   "source": [
    "model1 = KNNBasic().fit(train)"
   ]
  },
  {
   "cell_type": "code",
   "execution_count": 10,
   "id": "0b5b1cfd-7865-4fff-ad53-6471c9fdfe92",
   "metadata": {},
   "outputs": [
    {
     "data": {
      "text/plain": [
       "[Prediction(uid='CHL', iid=\"'Riptide' by Vance Joy\", r_ui=31.0, est=5, details={'actual_k': 40, 'was_impossible': False}),\n",
       " Prediction(uid='Anything', iid=\"'We Will Rock You - Remastered' by Queen\", r_ui=74.0, est=5, details={'actual_k': 40, 'was_impossible': False}),\n",
       " Prediction(uid='🔥🔥', iid=\"'Homie (feat. Meek Mill)' by Young Thug\", r_ui=29.0, est=5, details={'actual_k': 6, 'was_impossible': False}),\n",
       " Prediction(uid='Slay', iid=\"'Time' by Lauren Sanderson\", r_ui=43.0, est=5, details={'was_impossible': True, 'reason': 'User and/or item is unknown.'}),\n",
       " Prediction(uid='Invincible', iid=\"'Kryptonite' by 3 Doors Down\", r_ui=22.0, est=5, details={'actual_k': 40, 'was_impossible': False})]"
      ]
     },
     "execution_count": 10,
     "metadata": {},
     "output_type": "execute_result"
    }
   ],
   "source": [
    "model1.test(test)[:5]"
   ]
  },
  {
   "cell_type": "code",
   "execution_count": 11,
   "id": "95e59006-2ac3-403d-9e8d-beab5ec54548",
   "metadata": {},
   "outputs": [
    {
     "name": "stdout",
     "output_type": "stream",
     "text": [
      "MAE:  49.8309\n",
      "Mean Absolute Error: 49.83090399661375\n",
      "RMSE: 69.0345\n",
      "Root Mean Squared Error: 69.03451502703892\n"
     ]
    }
   ],
   "source": [
    "print(f\"Mean Absolute Error: {surprise.accuracy.mae(model1.test(test))}\")\n",
    "print(f\"Root Mean Squared Error: {surprise.accuracy.rmse(model1.test(test))}\")"
   ]
  },
  {
   "cell_type": "markdown",
   "id": "fd3a19cc-0e7e-48e2-a1b4-3ed326cea39d",
   "metadata": {},
   "source": [
    "## SVD using surprise"
   ]
  },
  {
   "cell_type": "code",
   "execution_count": 12,
   "id": "07cb8640-7d0c-40fc-8736-b0589650a7c6",
   "metadata": {},
   "outputs": [],
   "source": [
    "model2 = SVD().fit(train)"
   ]
  },
  {
   "cell_type": "code",
   "execution_count": 13,
   "id": "3c2aea2d-c0a0-49ee-a2cc-377694ee5149",
   "metadata": {},
   "outputs": [
    {
     "data": {
      "text/plain": [
       "[Prediction(uid='CHL', iid=\"'Riptide' by Vance Joy\", r_ui=31.0, est=5, details={'was_impossible': False}),\n",
       " Prediction(uid='Anything', iid=\"'We Will Rock You - Remastered' by Queen\", r_ui=74.0, est=5, details={'was_impossible': False}),\n",
       " Prediction(uid='🔥🔥', iid=\"'Homie (feat. Meek Mill)' by Young Thug\", r_ui=29.0, est=5, details={'was_impossible': False}),\n",
       " Prediction(uid='Slay', iid=\"'Time' by Lauren Sanderson\", r_ui=43.0, est=5, details={'was_impossible': False}),\n",
       " Prediction(uid='Invincible', iid=\"'Kryptonite' by 3 Doors Down\", r_ui=22.0, est=5, details={'was_impossible': False})]"
      ]
     },
     "execution_count": 13,
     "metadata": {},
     "output_type": "execute_result"
    }
   ],
   "source": [
    "model2.test(test)[:5]"
   ]
  },
  {
   "cell_type": "code",
   "execution_count": 14,
   "id": "89d3f07f-d26d-4c2c-b758-8da80f371553",
   "metadata": {},
   "outputs": [
    {
     "name": "stdout",
     "output_type": "stream",
     "text": [
      "MAE:  49.8043\n",
      "Mean Absolute Error: 49.80430694707705\n",
      "RMSE: 69.0128\n",
      "Root Mean Squared Error: 69.01284140931621\n"
     ]
    }
   ],
   "source": [
    "print(f\"Mean Absolute Error: {surprise.accuracy.mae(model2.test(test))}\")\n",
    "print(f\"Root Mean Squared Error: {surprise.accuracy.rmse(model2.test(test))}\")"
   ]
  },
  {
   "cell_type": "markdown",
   "id": "84c14f10-581a-444e-b1b2-0c20ce22f5d2",
   "metadata": {},
   "source": [
    "# DOING SOMETHING DIFFERENT HERE\n",
    "This portion was created with insp from https://beckernick.github.io/music_recommender/"
   ]
  },
  {
   "cell_type": "code",
   "execution_count": 15,
   "id": "1fd710c0-f0e6-4d10-acbb-679788f1b92a",
   "metadata": {},
   "outputs": [
    {
     "data": {
      "text/plain": [
       "\"# in order to use the same train and test sets, convert surprise trainset back to a DataFrame we can use with other packages\\n# Convert trainset to DataFrame\\ntrain_df = pd.DataFrame(train.all_ratings(), columns=['playlist_name', 'track_and_artist', 'pos'])\\n# Retrieve the original playlist names from the trainset\\ntrain_df['playlist_name'] = [train_df.to_raw_uid(uid) for uid in train_df['playlist_name']]\\n\\n# Convert testset to DataFrame\\ntest_df = pd.DataFrame(test, columns=['playlist_name', 'track_and_artist', 'pos'])\\n# Retrieve the original playlist names from the testset\\ntest_df['playlist_name'] = [test_df.to_raw_uid(uid) for uid in test_df['playlist_name']]\\n\\ntrain_df.head()\\n\""
      ]
     },
     "execution_count": 15,
     "metadata": {},
     "output_type": "execute_result"
    }
   ],
   "source": [
    "'''# in order to use the same train and test sets, convert surprise trainset back to a DataFrame we can use with other packages\n",
    "# Convert trainset to DataFrame\n",
    "train_df = pd.DataFrame(train.all_ratings(), columns=['playlist_name', 'track_and_artist', 'pos'])\n",
    "# Retrieve the original playlist names from the trainset\n",
    "train_df['playlist_name'] = [train_df.to_raw_uid(uid) for uid in train_df['playlist_name']]\n",
    "\n",
    "# Convert testset to DataFrame\n",
    "test_df = pd.DataFrame(test, columns=['playlist_name', 'track_and_artist', 'pos'])\n",
    "# Retrieve the original playlist names from the testset\n",
    "test_df['playlist_name'] = [test_df.to_raw_uid(uid) for uid in test_df['playlist_name']]\n",
    "\n",
    "train_df.head()\n",
    "'''"
   ]
  },
  {
   "cell_type": "code",
   "execution_count": null,
   "id": "f3c49c18-3d66-48d3-b2c8-f7c5acd534b0",
   "metadata": {},
   "outputs": [],
   "source": [
    "# creating a pivot table\n",
    "train_pivot = pd.pivot_table(train_df, values='pos', index='playlist_name', columns='track_and_artist').fillna(0)\n",
    "# sparse matrix\n",
    "train_pivot_matrix = csr_matrix(train_pivot.values)\n",
    "# repeating for test_df\n",
    "test_pivot = pd.pivot_table(test_df, values='pos', index='playlist_name', columns='track_and_artist').fillna(0)\n",
    "# sparse matrix\n",
    "test_pivot_matrix = csr_matrix(test_pivot.values)"
   ]
  },
  {
   "cell_type": "code",
   "execution_count": null,
   "id": "a464d054-026d-4cb3-adaf-80cd6352653c",
   "metadata": {},
   "outputs": [],
   "source": [
    "train_pivot.head()"
   ]
  },
  {
   "cell_type": "code",
   "execution_count": null,
   "id": "a1e3848d-125f-4536-b7e4-23c94ba3a6c8",
   "metadata": {},
   "outputs": [],
   "source": [
    "train_pivot_matrix"
   ]
  },
  {
   "cell_type": "code",
   "execution_count": null,
   "id": "b546358a-af49-4db4-9a55-bf5674c12183",
   "metadata": {},
   "outputs": [],
   "source": [
    "# instantiate model\n",
    "model_knn = NearestNeighbors(metric='cosine', algorithm='brute')\n",
    "# fit to matrix\n",
    "model_knn.fit(train_pivot_matrix)"
   ]
  },
  {
   "cell_type": "code",
   "execution_count": null,
   "id": "e86231a7-0617-490a-8838-72f4bce87325",
   "metadata": {},
   "outputs": [],
   "source": [
    "#model_knn.score(test_pivot_matrix)"
   ]
  },
  {
   "cell_type": "code",
   "execution_count": null,
   "id": "35dd57d4-0b1c-4a4f-a2d5-c7ba1a39fe12",
   "metadata": {},
   "outputs": [],
   "source": [
    "query_index = np.random.choice(train_pivot_matrix.shape[0])\n",
    "\n",
    "distances, indices = model_knn.kneighbors(train_pivot.iloc[query_index, :].values.reshape(1, -1), n_neighbors=21)\n",
    "\n",
    "for i in range(0, len(distances.flatten())):\n",
    "    if i ==0:\n",
    "        print('Recommendations for \"{0}\": \\n'.format(train_pivot.index[query_index]))\n",
    "    else: \n",
    "        print('{0}: {1}, with distance of {2}'.format(i, train_pivot.columns[indices.flatten()[i]], distances.flatten()[i]))"
   ]
  }
 ],
 "metadata": {
  "kernelspec": {
   "display_name": "Python (learn-env)",
   "language": "python",
   "name": "learn-env"
  },
  "language_info": {
   "codemirror_mode": {
    "name": "ipython",
    "version": 3
   },
   "file_extension": ".py",
   "mimetype": "text/x-python",
   "name": "python",
   "nbconvert_exporter": "python",
   "pygments_lexer": "ipython3",
   "version": "3.9.15"
  }
 },
 "nbformat": 4,
 "nbformat_minor": 5
}
